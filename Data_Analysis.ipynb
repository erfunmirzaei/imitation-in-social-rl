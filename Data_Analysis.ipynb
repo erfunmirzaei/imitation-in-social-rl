{
 "cells": [
  {
   "cell_type": "code",
   "execution_count": 108,
   "source": [
    "import numpy as np\r\n",
    "import pandas as pd\r\n",
    "import glob\r\n",
    "from scipy import stats"
   ],
   "outputs": [],
   "metadata": {}
  },
  {
   "cell_type": "code",
   "execution_count": 37,
   "source": [
    "path = r'E:\\University\\M.Sc\\Term 2\\Principles of Cognitive Science\\Uni\\HWs\\HW1\\task1\\data' # use your path\r\n",
    "all_files = glob.glob(path + \"/*.csv\")"
   ],
   "outputs": [],
   "metadata": {}
  },
  {
   "cell_type": "code",
   "execution_count": 38,
   "source": [
    "len(all_files)"
   ],
   "outputs": [
    {
     "output_type": "execute_result",
     "data": {
      "text/plain": [
       "10"
      ]
     },
     "metadata": {},
     "execution_count": 38
    }
   ],
   "metadata": {}
  },
  {
   "cell_type": "code",
   "execution_count": 63,
   "source": [
    "li = []\r\n",
    "\r\n",
    "for i,filename in enumerate(all_files):\r\n",
    "    if i not in [0,4,7,8]:\r\n",
    "        df = pd.read_csv(filename, index_col=None, header=0)\r\n",
    "        li.append(df)\r\n",
    "\r\n",
    "frame = pd.concat(li, axis=0, ignore_index=True)"
   ],
   "outputs": [],
   "metadata": {}
  },
  {
   "cell_type": "code",
   "execution_count": 64,
   "source": [
    "frame.head()"
   ],
   "outputs": [
    {
     "output_type": "execute_result",
     "data": {
      "text/plain": [
       "   trials.thisRepN  trials.thisTrialN  trials.thisN  trials.thisIndex  \\\n",
       "0              NaN                NaN           NaN               NaN   \n",
       "1              0.0                0.0           0.0               0.0   \n",
       "2              1.0                0.0           1.0               0.0   \n",
       "3              2.0                0.0           2.0               0.0   \n",
       "4              3.0                0.0           3.0               0.0   \n",
       "\n",
       "   textbox.started textbox.stopped key_resp_2.keys  key_resp_2.rt  \\\n",
       "0        19.844086            None               f       2.330497   \n",
       "1              NaN             NaN             NaN            NaN   \n",
       "2              NaN             NaN             NaN            NaN   \n",
       "3              NaN             NaN             NaN            NaN   \n",
       "4              NaN             NaN             NaN            NaN   \n",
       "\n",
       "   key_resp_2.started key_resp_2.stopped  ... key_resp.rt session exp_id age  \\\n",
       "0           19.844086               None  ...         NaN       2      1  23   \n",
       "1                 NaN                NaN  ...         NaN       2      1  23   \n",
       "2                 NaN                NaN  ...    0.658541       2      1  23   \n",
       "3                 NaN                NaN  ...    0.589978       2      1  23   \n",
       "4                 NaN                NaN  ...    0.834095       2      1  23   \n",
       "\n",
       "   sex(M or F)              date                        expName  \\\n",
       "0            M  2021_Aug_02_1239  Social Reinforcement Learning   \n",
       "1            M  2021_Aug_02_1239  Social Reinforcement Learning   \n",
       "2            M  2021_Aug_02_1239  Social Reinforcement Learning   \n",
       "3            M  2021_Aug_02_1239  Social Reinforcement Learning   \n",
       "4            M  2021_Aug_02_1239  Social Reinforcement Learning   \n",
       "\n",
       "  psychopyVersion  frameRate  Unnamed: 51  \n",
       "0        2021.1.4  59.958263          NaN  \n",
       "1        2021.1.4  59.958263          NaN  \n",
       "2        2021.1.4  59.958263          NaN  \n",
       "3        2021.1.4  59.958263          NaN  \n",
       "4        2021.1.4  59.958263          NaN  \n",
       "\n",
       "[5 rows x 52 columns]"
      ],
      "text/html": [
       "<div>\n",
       "<style scoped>\n",
       "    .dataframe tbody tr th:only-of-type {\n",
       "        vertical-align: middle;\n",
       "    }\n",
       "\n",
       "    .dataframe tbody tr th {\n",
       "        vertical-align: top;\n",
       "    }\n",
       "\n",
       "    .dataframe thead th {\n",
       "        text-align: right;\n",
       "    }\n",
       "</style>\n",
       "<table border=\"1\" class=\"dataframe\">\n",
       "  <thead>\n",
       "    <tr style=\"text-align: right;\">\n",
       "      <th></th>\n",
       "      <th>trials.thisRepN</th>\n",
       "      <th>trials.thisTrialN</th>\n",
       "      <th>trials.thisN</th>\n",
       "      <th>trials.thisIndex</th>\n",
       "      <th>textbox.started</th>\n",
       "      <th>textbox.stopped</th>\n",
       "      <th>key_resp_2.keys</th>\n",
       "      <th>key_resp_2.rt</th>\n",
       "      <th>key_resp_2.started</th>\n",
       "      <th>key_resp_2.stopped</th>\n",
       "      <th>...</th>\n",
       "      <th>key_resp.rt</th>\n",
       "      <th>session</th>\n",
       "      <th>exp_id</th>\n",
       "      <th>age</th>\n",
       "      <th>sex(M or F)</th>\n",
       "      <th>date</th>\n",
       "      <th>expName</th>\n",
       "      <th>psychopyVersion</th>\n",
       "      <th>frameRate</th>\n",
       "      <th>Unnamed: 51</th>\n",
       "    </tr>\n",
       "  </thead>\n",
       "  <tbody>\n",
       "    <tr>\n",
       "      <th>0</th>\n",
       "      <td>NaN</td>\n",
       "      <td>NaN</td>\n",
       "      <td>NaN</td>\n",
       "      <td>NaN</td>\n",
       "      <td>19.844086</td>\n",
       "      <td>None</td>\n",
       "      <td>f</td>\n",
       "      <td>2.330497</td>\n",
       "      <td>19.844086</td>\n",
       "      <td>None</td>\n",
       "      <td>...</td>\n",
       "      <td>NaN</td>\n",
       "      <td>2</td>\n",
       "      <td>1</td>\n",
       "      <td>23</td>\n",
       "      <td>M</td>\n",
       "      <td>2021_Aug_02_1239</td>\n",
       "      <td>Social Reinforcement Learning</td>\n",
       "      <td>2021.1.4</td>\n",
       "      <td>59.958263</td>\n",
       "      <td>NaN</td>\n",
       "    </tr>\n",
       "    <tr>\n",
       "      <th>1</th>\n",
       "      <td>0.0</td>\n",
       "      <td>0.0</td>\n",
       "      <td>0.0</td>\n",
       "      <td>0.0</td>\n",
       "      <td>NaN</td>\n",
       "      <td>NaN</td>\n",
       "      <td>NaN</td>\n",
       "      <td>NaN</td>\n",
       "      <td>NaN</td>\n",
       "      <td>NaN</td>\n",
       "      <td>...</td>\n",
       "      <td>NaN</td>\n",
       "      <td>2</td>\n",
       "      <td>1</td>\n",
       "      <td>23</td>\n",
       "      <td>M</td>\n",
       "      <td>2021_Aug_02_1239</td>\n",
       "      <td>Social Reinforcement Learning</td>\n",
       "      <td>2021.1.4</td>\n",
       "      <td>59.958263</td>\n",
       "      <td>NaN</td>\n",
       "    </tr>\n",
       "    <tr>\n",
       "      <th>2</th>\n",
       "      <td>1.0</td>\n",
       "      <td>0.0</td>\n",
       "      <td>1.0</td>\n",
       "      <td>0.0</td>\n",
       "      <td>NaN</td>\n",
       "      <td>NaN</td>\n",
       "      <td>NaN</td>\n",
       "      <td>NaN</td>\n",
       "      <td>NaN</td>\n",
       "      <td>NaN</td>\n",
       "      <td>...</td>\n",
       "      <td>0.658541</td>\n",
       "      <td>2</td>\n",
       "      <td>1</td>\n",
       "      <td>23</td>\n",
       "      <td>M</td>\n",
       "      <td>2021_Aug_02_1239</td>\n",
       "      <td>Social Reinforcement Learning</td>\n",
       "      <td>2021.1.4</td>\n",
       "      <td>59.958263</td>\n",
       "      <td>NaN</td>\n",
       "    </tr>\n",
       "    <tr>\n",
       "      <th>3</th>\n",
       "      <td>2.0</td>\n",
       "      <td>0.0</td>\n",
       "      <td>2.0</td>\n",
       "      <td>0.0</td>\n",
       "      <td>NaN</td>\n",
       "      <td>NaN</td>\n",
       "      <td>NaN</td>\n",
       "      <td>NaN</td>\n",
       "      <td>NaN</td>\n",
       "      <td>NaN</td>\n",
       "      <td>...</td>\n",
       "      <td>0.589978</td>\n",
       "      <td>2</td>\n",
       "      <td>1</td>\n",
       "      <td>23</td>\n",
       "      <td>M</td>\n",
       "      <td>2021_Aug_02_1239</td>\n",
       "      <td>Social Reinforcement Learning</td>\n",
       "      <td>2021.1.4</td>\n",
       "      <td>59.958263</td>\n",
       "      <td>NaN</td>\n",
       "    </tr>\n",
       "    <tr>\n",
       "      <th>4</th>\n",
       "      <td>3.0</td>\n",
       "      <td>0.0</td>\n",
       "      <td>3.0</td>\n",
       "      <td>0.0</td>\n",
       "      <td>NaN</td>\n",
       "      <td>NaN</td>\n",
       "      <td>NaN</td>\n",
       "      <td>NaN</td>\n",
       "      <td>NaN</td>\n",
       "      <td>NaN</td>\n",
       "      <td>...</td>\n",
       "      <td>0.834095</td>\n",
       "      <td>2</td>\n",
       "      <td>1</td>\n",
       "      <td>23</td>\n",
       "      <td>M</td>\n",
       "      <td>2021_Aug_02_1239</td>\n",
       "      <td>Social Reinforcement Learning</td>\n",
       "      <td>2021.1.4</td>\n",
       "      <td>59.958263</td>\n",
       "      <td>NaN</td>\n",
       "    </tr>\n",
       "  </tbody>\n",
       "</table>\n",
       "<p>5 rows × 52 columns</p>\n",
       "</div>"
      ]
     },
     "metadata": {},
     "execution_count": 64
    }
   ],
   "metadata": {}
  },
  {
   "cell_type": "code",
   "execution_count": 65,
   "source": [
    "frame.info()"
   ],
   "outputs": [
    {
     "output_type": "stream",
     "name": "stdout",
     "text": [
      "<class 'pandas.core.frame.DataFrame'>\n",
      "RangeIndex: 606 entries, 0 to 605\n",
      "Data columns (total 52 columns):\n",
      " #   Column              Non-Null Count  Dtype  \n",
      "---  ------              --------------  -----  \n",
      " 0   trials.thisRepN     600 non-null    float64\n",
      " 1   trials.thisTrialN   600 non-null    float64\n",
      " 2   trials.thisN        600 non-null    float64\n",
      " 3   trials.thisIndex    600 non-null    float64\n",
      " 4   textbox.started     6 non-null      float64\n",
      " 5   textbox.stopped     6 non-null      object \n",
      " 6   key_resp_2.keys     6 non-null      object \n",
      " 7   key_resp_2.rt       6 non-null      float64\n",
      " 8   key_resp_2.started  6 non-null      float64\n",
      " 9   key_resp_2.stopped  6 non-null      object \n",
      " 10  block_type          600 non-null    object \n",
      " 11  learning_type       600 non-null    object \n",
      " 12  trial_type          600 non-null    object \n",
      " 13  image_path          600 non-null    object \n",
      " 14  x_image             600 non-null    float64\n",
      " 15  trial               600 non-null    float64\n",
      " 16  person.started      600 non-null    float64\n",
      " 17  person.stopped      600 non-null    object \n",
      " 18  text.started        600 non-null    float64\n",
      " 19  text.stopped        600 non-null    float64\n",
      " 20  text_2.started      600 non-null    float64\n",
      " 21  text_2.stopped      600 non-null    float64\n",
      " 22  key_resp.keys       600 non-null    object \n",
      " 23  key_resp.started    600 non-null    float64\n",
      " 24  key_resp.stopped    600 non-null    object \n",
      " 25  text_4.started      600 non-null    object \n",
      " 26  text_4.stopped      600 non-null    object \n",
      " 27  line.started        600 non-null    float64\n",
      " 28  line.stopped        600 non-null    object \n",
      " 29  text_5.started      600 non-null    float64\n",
      " 30  text_5.stopped      600 non-null    object \n",
      " 31  reward_a            600 non-null    float64\n",
      " 32  reward_d            600 non-null    float64\n",
      " 33  reward              600 non-null    object \n",
      " 34  image.started       600 non-null    float64\n",
      " 35  image.stopped       600 non-null    object \n",
      " 36  text_3.started      600 non-null    float64\n",
      " 37  text_3.stopped      600 non-null    object \n",
      " 38  line_2.started      600 non-null    float64\n",
      " 39  line_2.stopped      600 non-null    object \n",
      " 40  text_6.started      600 non-null    float64\n",
      " 41  text_6.stopped      600 non-null    object \n",
      " 42  key_resp.rt         360 non-null    float64\n",
      " 43  session             606 non-null    int64  \n",
      " 44  exp_id              606 non-null    int64  \n",
      " 45  age                 606 non-null    int64  \n",
      " 46  sex(M or F)         606 non-null    object \n",
      " 47  date                606 non-null    object \n",
      " 48  expName             606 non-null    object \n",
      " 49  psychopyVersion     606 non-null    object \n",
      " 50  frameRate           606 non-null    float64\n",
      " 51  Unnamed: 51         0 non-null      float64\n",
      "dtypes: float64(26), int64(3), object(23)\n",
      "memory usage: 246.3+ KB\n"
     ]
    }
   ],
   "metadata": {}
  },
  {
   "cell_type": "code",
   "execution_count": 66,
   "source": [
    "frame.describe()"
   ],
   "outputs": [
    {
     "output_type": "execute_result",
     "data": {
      "text/plain": [
       "       trials.thisRepN  trials.thisTrialN  trials.thisN  trials.thisIndex  \\\n",
       "count       600.000000              600.0    600.000000             600.0   \n",
       "mean         49.500000                0.0     49.500000               0.0   \n",
       "std          28.890155                0.0     28.890155               0.0   \n",
       "min           0.000000                0.0      0.000000               0.0   \n",
       "25%          24.750000                0.0     24.750000               0.0   \n",
       "50%          49.500000                0.0     49.500000               0.0   \n",
       "75%          74.250000                0.0     74.250000               0.0   \n",
       "max          99.000000                0.0     99.000000               0.0   \n",
       "\n",
       "       textbox.started  key_resp_2.rt  key_resp_2.started     x_image  \\\n",
       "count         6.000000       6.000000            6.000000  600.000000   \n",
       "mean         24.699115      25.939553           24.699115    0.100000   \n",
       "std          11.694608      58.275515           11.694608    0.490307   \n",
       "min          16.466908       0.419220           16.466908   -0.500000   \n",
       "25%          19.018116       0.603967           19.018116   -0.500000   \n",
       "50%          20.755280       1.580115           20.755280    0.500000   \n",
       "75%          22.971013       5.633718           22.971013    0.500000   \n",
       "max          48.068572     144.794367           48.068572    0.500000   \n",
       "\n",
       "            trial  person.started  ...  image.started  text_3.started  \\\n",
       "count  600.000000      600.000000  ...     600.000000      600.000000   \n",
       "mean    50.500000      356.198344  ...     359.864062      360.352231   \n",
       "std     28.890155      187.194061  ...     187.232410      187.232486   \n",
       "min      1.000000       20.175163  ...      24.212067       24.689181   \n",
       "25%     25.750000      200.519421  ...     204.546925      205.035024   \n",
       "50%     50.500000      354.512683  ...     358.320176      358.817058   \n",
       "75%     75.250000      510.221316  ...     513.883174      514.374662   \n",
       "max    100.000000      794.872207  ...     797.723630      798.218774   \n",
       "\n",
       "       line_2.started  text_6.started  key_resp.rt     session      exp_id  \\\n",
       "count      600.000000      600.000000   360.000000  606.000000  606.000000   \n",
       "mean       359.864062      359.864062     1.128856    2.666667    1.833333   \n",
       "std        187.232410      187.232410     1.136359    0.943588    0.687752   \n",
       "min         24.212067       24.212067     0.021082    1.000000    1.000000   \n",
       "25%        204.546925      204.546925     0.524435    2.000000    1.000000   \n",
       "50%        358.320176      358.320176     0.746171    3.000000    2.000000   \n",
       "75%        513.883174      513.883174     1.352965    3.000000    2.000000   \n",
       "max        797.723630      797.723630     8.043534    4.000000    3.000000   \n",
       "\n",
       "              age   frameRate  Unnamed: 51  \n",
       "count  606.000000  606.000000          0.0  \n",
       "mean    36.666667   60.056560          NaN  \n",
       "std     15.436389    0.479819          NaN  \n",
       "min     18.000000   59.443758          NaN  \n",
       "25%     23.000000   59.832693          NaN  \n",
       "50%     37.500000   59.981573          NaN  \n",
       "75%     52.000000   60.073239          NaN  \n",
       "max     52.000000   61.026523          NaN  \n",
       "\n",
       "[8 rows x 29 columns]"
      ],
      "text/html": [
       "<div>\n",
       "<style scoped>\n",
       "    .dataframe tbody tr th:only-of-type {\n",
       "        vertical-align: middle;\n",
       "    }\n",
       "\n",
       "    .dataframe tbody tr th {\n",
       "        vertical-align: top;\n",
       "    }\n",
       "\n",
       "    .dataframe thead th {\n",
       "        text-align: right;\n",
       "    }\n",
       "</style>\n",
       "<table border=\"1\" class=\"dataframe\">\n",
       "  <thead>\n",
       "    <tr style=\"text-align: right;\">\n",
       "      <th></th>\n",
       "      <th>trials.thisRepN</th>\n",
       "      <th>trials.thisTrialN</th>\n",
       "      <th>trials.thisN</th>\n",
       "      <th>trials.thisIndex</th>\n",
       "      <th>textbox.started</th>\n",
       "      <th>key_resp_2.rt</th>\n",
       "      <th>key_resp_2.started</th>\n",
       "      <th>x_image</th>\n",
       "      <th>trial</th>\n",
       "      <th>person.started</th>\n",
       "      <th>...</th>\n",
       "      <th>image.started</th>\n",
       "      <th>text_3.started</th>\n",
       "      <th>line_2.started</th>\n",
       "      <th>text_6.started</th>\n",
       "      <th>key_resp.rt</th>\n",
       "      <th>session</th>\n",
       "      <th>exp_id</th>\n",
       "      <th>age</th>\n",
       "      <th>frameRate</th>\n",
       "      <th>Unnamed: 51</th>\n",
       "    </tr>\n",
       "  </thead>\n",
       "  <tbody>\n",
       "    <tr>\n",
       "      <th>count</th>\n",
       "      <td>600.000000</td>\n",
       "      <td>600.0</td>\n",
       "      <td>600.000000</td>\n",
       "      <td>600.0</td>\n",
       "      <td>6.000000</td>\n",
       "      <td>6.000000</td>\n",
       "      <td>6.000000</td>\n",
       "      <td>600.000000</td>\n",
       "      <td>600.000000</td>\n",
       "      <td>600.000000</td>\n",
       "      <td>...</td>\n",
       "      <td>600.000000</td>\n",
       "      <td>600.000000</td>\n",
       "      <td>600.000000</td>\n",
       "      <td>600.000000</td>\n",
       "      <td>360.000000</td>\n",
       "      <td>606.000000</td>\n",
       "      <td>606.000000</td>\n",
       "      <td>606.000000</td>\n",
       "      <td>606.000000</td>\n",
       "      <td>0.0</td>\n",
       "    </tr>\n",
       "    <tr>\n",
       "      <th>mean</th>\n",
       "      <td>49.500000</td>\n",
       "      <td>0.0</td>\n",
       "      <td>49.500000</td>\n",
       "      <td>0.0</td>\n",
       "      <td>24.699115</td>\n",
       "      <td>25.939553</td>\n",
       "      <td>24.699115</td>\n",
       "      <td>0.100000</td>\n",
       "      <td>50.500000</td>\n",
       "      <td>356.198344</td>\n",
       "      <td>...</td>\n",
       "      <td>359.864062</td>\n",
       "      <td>360.352231</td>\n",
       "      <td>359.864062</td>\n",
       "      <td>359.864062</td>\n",
       "      <td>1.128856</td>\n",
       "      <td>2.666667</td>\n",
       "      <td>1.833333</td>\n",
       "      <td>36.666667</td>\n",
       "      <td>60.056560</td>\n",
       "      <td>NaN</td>\n",
       "    </tr>\n",
       "    <tr>\n",
       "      <th>std</th>\n",
       "      <td>28.890155</td>\n",
       "      <td>0.0</td>\n",
       "      <td>28.890155</td>\n",
       "      <td>0.0</td>\n",
       "      <td>11.694608</td>\n",
       "      <td>58.275515</td>\n",
       "      <td>11.694608</td>\n",
       "      <td>0.490307</td>\n",
       "      <td>28.890155</td>\n",
       "      <td>187.194061</td>\n",
       "      <td>...</td>\n",
       "      <td>187.232410</td>\n",
       "      <td>187.232486</td>\n",
       "      <td>187.232410</td>\n",
       "      <td>187.232410</td>\n",
       "      <td>1.136359</td>\n",
       "      <td>0.943588</td>\n",
       "      <td>0.687752</td>\n",
       "      <td>15.436389</td>\n",
       "      <td>0.479819</td>\n",
       "      <td>NaN</td>\n",
       "    </tr>\n",
       "    <tr>\n",
       "      <th>min</th>\n",
       "      <td>0.000000</td>\n",
       "      <td>0.0</td>\n",
       "      <td>0.000000</td>\n",
       "      <td>0.0</td>\n",
       "      <td>16.466908</td>\n",
       "      <td>0.419220</td>\n",
       "      <td>16.466908</td>\n",
       "      <td>-0.500000</td>\n",
       "      <td>1.000000</td>\n",
       "      <td>20.175163</td>\n",
       "      <td>...</td>\n",
       "      <td>24.212067</td>\n",
       "      <td>24.689181</td>\n",
       "      <td>24.212067</td>\n",
       "      <td>24.212067</td>\n",
       "      <td>0.021082</td>\n",
       "      <td>1.000000</td>\n",
       "      <td>1.000000</td>\n",
       "      <td>18.000000</td>\n",
       "      <td>59.443758</td>\n",
       "      <td>NaN</td>\n",
       "    </tr>\n",
       "    <tr>\n",
       "      <th>25%</th>\n",
       "      <td>24.750000</td>\n",
       "      <td>0.0</td>\n",
       "      <td>24.750000</td>\n",
       "      <td>0.0</td>\n",
       "      <td>19.018116</td>\n",
       "      <td>0.603967</td>\n",
       "      <td>19.018116</td>\n",
       "      <td>-0.500000</td>\n",
       "      <td>25.750000</td>\n",
       "      <td>200.519421</td>\n",
       "      <td>...</td>\n",
       "      <td>204.546925</td>\n",
       "      <td>205.035024</td>\n",
       "      <td>204.546925</td>\n",
       "      <td>204.546925</td>\n",
       "      <td>0.524435</td>\n",
       "      <td>2.000000</td>\n",
       "      <td>1.000000</td>\n",
       "      <td>23.000000</td>\n",
       "      <td>59.832693</td>\n",
       "      <td>NaN</td>\n",
       "    </tr>\n",
       "    <tr>\n",
       "      <th>50%</th>\n",
       "      <td>49.500000</td>\n",
       "      <td>0.0</td>\n",
       "      <td>49.500000</td>\n",
       "      <td>0.0</td>\n",
       "      <td>20.755280</td>\n",
       "      <td>1.580115</td>\n",
       "      <td>20.755280</td>\n",
       "      <td>0.500000</td>\n",
       "      <td>50.500000</td>\n",
       "      <td>354.512683</td>\n",
       "      <td>...</td>\n",
       "      <td>358.320176</td>\n",
       "      <td>358.817058</td>\n",
       "      <td>358.320176</td>\n",
       "      <td>358.320176</td>\n",
       "      <td>0.746171</td>\n",
       "      <td>3.000000</td>\n",
       "      <td>2.000000</td>\n",
       "      <td>37.500000</td>\n",
       "      <td>59.981573</td>\n",
       "      <td>NaN</td>\n",
       "    </tr>\n",
       "    <tr>\n",
       "      <th>75%</th>\n",
       "      <td>74.250000</td>\n",
       "      <td>0.0</td>\n",
       "      <td>74.250000</td>\n",
       "      <td>0.0</td>\n",
       "      <td>22.971013</td>\n",
       "      <td>5.633718</td>\n",
       "      <td>22.971013</td>\n",
       "      <td>0.500000</td>\n",
       "      <td>75.250000</td>\n",
       "      <td>510.221316</td>\n",
       "      <td>...</td>\n",
       "      <td>513.883174</td>\n",
       "      <td>514.374662</td>\n",
       "      <td>513.883174</td>\n",
       "      <td>513.883174</td>\n",
       "      <td>1.352965</td>\n",
       "      <td>3.000000</td>\n",
       "      <td>2.000000</td>\n",
       "      <td>52.000000</td>\n",
       "      <td>60.073239</td>\n",
       "      <td>NaN</td>\n",
       "    </tr>\n",
       "    <tr>\n",
       "      <th>max</th>\n",
       "      <td>99.000000</td>\n",
       "      <td>0.0</td>\n",
       "      <td>99.000000</td>\n",
       "      <td>0.0</td>\n",
       "      <td>48.068572</td>\n",
       "      <td>144.794367</td>\n",
       "      <td>48.068572</td>\n",
       "      <td>0.500000</td>\n",
       "      <td>100.000000</td>\n",
       "      <td>794.872207</td>\n",
       "      <td>...</td>\n",
       "      <td>797.723630</td>\n",
       "      <td>798.218774</td>\n",
       "      <td>797.723630</td>\n",
       "      <td>797.723630</td>\n",
       "      <td>8.043534</td>\n",
       "      <td>4.000000</td>\n",
       "      <td>3.000000</td>\n",
       "      <td>52.000000</td>\n",
       "      <td>61.026523</td>\n",
       "      <td>NaN</td>\n",
       "    </tr>\n",
       "  </tbody>\n",
       "</table>\n",
       "<p>8 rows × 29 columns</p>\n",
       "</div>"
      ]
     },
     "metadata": {},
     "execution_count": 66
    }
   ],
   "metadata": {}
  },
  {
   "cell_type": "code",
   "execution_count": 90,
   "source": [
    "frame.dropna(subset = [\"trial\"], inplace= True)"
   ],
   "outputs": [],
   "metadata": {}
  },
  {
   "cell_type": "code",
   "execution_count": 91,
   "source": [
    "frame.info()"
   ],
   "outputs": [
    {
     "output_type": "stream",
     "name": "stdout",
     "text": [
      "<class 'pandas.core.frame.DataFrame'>\n",
      "Int64Index: 600 entries, 1 to 605\n",
      "Data columns (total 19 columns):\n",
      " #   Column           Non-Null Count  Dtype  \n",
      "---  ------           --------------  -----  \n",
      " 0   block_type       600 non-null    object \n",
      " 1   learning_type    600 non-null    object \n",
      " 2   trial_type       600 non-null    object \n",
      " 3   image_path       600 non-null    object \n",
      " 4   x_image          600 non-null    float64\n",
      " 5   trial            600 non-null    float64\n",
      " 6   key_resp.keys    600 non-null    object \n",
      " 7   reward_a         600 non-null    float64\n",
      " 8   reward_d         600 non-null    float64\n",
      " 9   reward           600 non-null    object \n",
      " 10  session          600 non-null    int64  \n",
      " 11  exp_id           600 non-null    int64  \n",
      " 12  age              600 non-null    int64  \n",
      " 13  sex(M or F)      600 non-null    object \n",
      " 14  date             600 non-null    object \n",
      " 15  expName          600 non-null    object \n",
      " 16  psychopyVersion  600 non-null    object \n",
      " 17  frameRate        600 non-null    float64\n",
      " 18  best_action      600 non-null    object \n",
      "dtypes: float64(5), int64(3), object(11)\n",
      "memory usage: 93.8+ KB\n"
     ]
    }
   ],
   "metadata": {}
  },
  {
   "cell_type": "code",
   "execution_count": 69,
   "source": [
    "frame.drop('trials.thisRepN', inplace=True, axis=1)\r\n",
    "frame.drop('trials.thisTrialN', inplace=True, axis=1)\r\n",
    "frame.drop('trials.thisN', inplace=True, axis=1)\r\n",
    "frame.drop('trials.thisIndex', inplace=True, axis=1)\r\n",
    "frame.drop('textbox.started', inplace=True, axis=1)\r\n",
    "frame.drop('textbox.stopped', inplace=True, axis=1)\r\n",
    "frame.drop('key_resp_2.keys', inplace=True, axis=1)\r\n",
    "frame.drop('key_resp_2.rt', inplace=True, axis=1)\r\n",
    "frame.drop('key_resp_2.started', inplace=True, axis=1)\r\n",
    "frame.drop('key_resp_2.stopped', inplace=True, axis=1)"
   ],
   "outputs": [],
   "metadata": {}
  },
  {
   "cell_type": "code",
   "execution_count": 72,
   "source": [
    "frame.drop(frame.columns[6:12], inplace=True, axis=1)"
   ],
   "outputs": [],
   "metadata": {}
  },
  {
   "cell_type": "code",
   "execution_count": 74,
   "source": [
    "frame.drop(frame.columns[7:15], inplace=True, axis=1)"
   ],
   "outputs": [],
   "metadata": {}
  },
  {
   "cell_type": "code",
   "execution_count": 75,
   "source": [
    "frame.drop(frame.columns[10:19], inplace=True, axis=1)"
   ],
   "outputs": [],
   "metadata": {}
  },
  {
   "cell_type": "code",
   "execution_count": 77,
   "source": [
    "#frame.drop('text_5.stopped', inplace=True, axis=1)\r\n",
    "frame.drop('Unnamed: 51', inplace=True, axis=1)"
   ],
   "outputs": [],
   "metadata": {}
  },
  {
   "cell_type": "code",
   "execution_count": 78,
   "source": [
    "frame.info()"
   ],
   "outputs": [
    {
     "output_type": "stream",
     "name": "stdout",
     "text": [
      "<class 'pandas.core.frame.DataFrame'>\n",
      "Int64Index: 600 entries, 1 to 605\n",
      "Data columns (total 18 columns):\n",
      " #   Column           Non-Null Count  Dtype  \n",
      "---  ------           --------------  -----  \n",
      " 0   block_type       600 non-null    object \n",
      " 1   learning_type    600 non-null    object \n",
      " 2   trial_type       600 non-null    object \n",
      " 3   image_path       600 non-null    object \n",
      " 4   x_image          600 non-null    float64\n",
      " 5   trial            600 non-null    float64\n",
      " 6   key_resp.keys    600 non-null    object \n",
      " 7   reward_a         600 non-null    float64\n",
      " 8   reward_d         600 non-null    float64\n",
      " 9   reward           600 non-null    object \n",
      " 10  session          600 non-null    int64  \n",
      " 11  exp_id           600 non-null    int64  \n",
      " 12  age              600 non-null    int64  \n",
      " 13  sex(M or F)      600 non-null    object \n",
      " 14  date             600 non-null    object \n",
      " 15  expName          600 non-null    object \n",
      " 16  psychopyVersion  600 non-null    object \n",
      " 17  frameRate        600 non-null    float64\n",
      "dtypes: float64(5), int64(3), object(10)\n",
      "memory usage: 89.1+ KB\n"
     ]
    }
   ],
   "metadata": {}
  },
  {
   "cell_type": "code",
   "execution_count": 61,
   "source": [
    "np.mean(frame.iloc[:,11])"
   ],
   "outputs": [
    {
     "output_type": "execute_result",
     "data": {
      "text/plain": [
       "36.666666666666664"
      ]
     },
     "metadata": {},
     "execution_count": 61
    }
   ],
   "metadata": {}
  },
  {
   "cell_type": "code",
   "execution_count": 60,
   "source": [
    "np.std(frame.iloc[:,11])"
   ],
   "outputs": [
    {
     "output_type": "execute_result",
     "data": {
      "text/plain": [
       "15.423647068345641"
      ]
     },
     "metadata": {},
     "execution_count": 60
    }
   ],
   "metadata": {}
  },
  {
   "cell_type": "code",
   "execution_count": 80,
   "source": [
    "frame['best_action'] = np.where(frame['reward_a'] > frame['reward_d'], 'a', 'd')"
   ],
   "outputs": [],
   "metadata": {}
  },
  {
   "cell_type": "code",
   "execution_count": 82,
   "source": [
    "frame.tail()"
   ],
   "outputs": [
    {
     "output_type": "execute_result",
     "data": {
      "text/plain": [
       "    block_type learning_type     trial_type                      image_path  \\\n",
       "601     Social            SD        Private        images/Private_trial.png   \n",
       "602     Social            SD  Observational  images/Observational_trial.png   \n",
       "603     Social            SD  Observational  images/Observational_trial.png   \n",
       "604     Social            SD        Private        images/Private_trial.png   \n",
       "605     Social            SD        Private        images/Private_trial.png   \n",
       "\n",
       "     x_image  trial key_resp.keys  reward_a  reward_d reward  session  exp_id  \\\n",
       "601      0.5   96.0             d       0.3       0.7     -1        3       3   \n",
       "602     -0.5   97.0          None       0.3       0.7      ?        3       3   \n",
       "603     -0.5   98.0          None       0.3       0.7      ?        3       3   \n",
       "604      0.5   99.0             d       0.3       0.7      1        3       3   \n",
       "605      0.5  100.0             d       0.3       0.7      1        3       3   \n",
       "\n",
       "     age sex(M or F)              date                        expName  \\\n",
       "601   18           M  2021_Aug_02_1249  Social Reinforcement Learning   \n",
       "602   18           M  2021_Aug_02_1249  Social Reinforcement Learning   \n",
       "603   18           M  2021_Aug_02_1249  Social Reinforcement Learning   \n",
       "604   18           M  2021_Aug_02_1249  Social Reinforcement Learning   \n",
       "605   18           M  2021_Aug_02_1249  Social Reinforcement Learning   \n",
       "\n",
       "    psychopyVersion  frameRate best_action  \n",
       "601        2021.1.4  59.443758           d  \n",
       "602        2021.1.4  59.443758           d  \n",
       "603        2021.1.4  59.443758           d  \n",
       "604        2021.1.4  59.443758           d  \n",
       "605        2021.1.4  59.443758           d  "
      ],
      "text/html": [
       "<div>\n",
       "<style scoped>\n",
       "    .dataframe tbody tr th:only-of-type {\n",
       "        vertical-align: middle;\n",
       "    }\n",
       "\n",
       "    .dataframe tbody tr th {\n",
       "        vertical-align: top;\n",
       "    }\n",
       "\n",
       "    .dataframe thead th {\n",
       "        text-align: right;\n",
       "    }\n",
       "</style>\n",
       "<table border=\"1\" class=\"dataframe\">\n",
       "  <thead>\n",
       "    <tr style=\"text-align: right;\">\n",
       "      <th></th>\n",
       "      <th>block_type</th>\n",
       "      <th>learning_type</th>\n",
       "      <th>trial_type</th>\n",
       "      <th>image_path</th>\n",
       "      <th>x_image</th>\n",
       "      <th>trial</th>\n",
       "      <th>key_resp.keys</th>\n",
       "      <th>reward_a</th>\n",
       "      <th>reward_d</th>\n",
       "      <th>reward</th>\n",
       "      <th>session</th>\n",
       "      <th>exp_id</th>\n",
       "      <th>age</th>\n",
       "      <th>sex(M or F)</th>\n",
       "      <th>date</th>\n",
       "      <th>expName</th>\n",
       "      <th>psychopyVersion</th>\n",
       "      <th>frameRate</th>\n",
       "      <th>best_action</th>\n",
       "    </tr>\n",
       "  </thead>\n",
       "  <tbody>\n",
       "    <tr>\n",
       "      <th>601</th>\n",
       "      <td>Social</td>\n",
       "      <td>SD</td>\n",
       "      <td>Private</td>\n",
       "      <td>images/Private_trial.png</td>\n",
       "      <td>0.5</td>\n",
       "      <td>96.0</td>\n",
       "      <td>d</td>\n",
       "      <td>0.3</td>\n",
       "      <td>0.7</td>\n",
       "      <td>-1</td>\n",
       "      <td>3</td>\n",
       "      <td>3</td>\n",
       "      <td>18</td>\n",
       "      <td>M</td>\n",
       "      <td>2021_Aug_02_1249</td>\n",
       "      <td>Social Reinforcement Learning</td>\n",
       "      <td>2021.1.4</td>\n",
       "      <td>59.443758</td>\n",
       "      <td>d</td>\n",
       "    </tr>\n",
       "    <tr>\n",
       "      <th>602</th>\n",
       "      <td>Social</td>\n",
       "      <td>SD</td>\n",
       "      <td>Observational</td>\n",
       "      <td>images/Observational_trial.png</td>\n",
       "      <td>-0.5</td>\n",
       "      <td>97.0</td>\n",
       "      <td>None</td>\n",
       "      <td>0.3</td>\n",
       "      <td>0.7</td>\n",
       "      <td>?</td>\n",
       "      <td>3</td>\n",
       "      <td>3</td>\n",
       "      <td>18</td>\n",
       "      <td>M</td>\n",
       "      <td>2021_Aug_02_1249</td>\n",
       "      <td>Social Reinforcement Learning</td>\n",
       "      <td>2021.1.4</td>\n",
       "      <td>59.443758</td>\n",
       "      <td>d</td>\n",
       "    </tr>\n",
       "    <tr>\n",
       "      <th>603</th>\n",
       "      <td>Social</td>\n",
       "      <td>SD</td>\n",
       "      <td>Observational</td>\n",
       "      <td>images/Observational_trial.png</td>\n",
       "      <td>-0.5</td>\n",
       "      <td>98.0</td>\n",
       "      <td>None</td>\n",
       "      <td>0.3</td>\n",
       "      <td>0.7</td>\n",
       "      <td>?</td>\n",
       "      <td>3</td>\n",
       "      <td>3</td>\n",
       "      <td>18</td>\n",
       "      <td>M</td>\n",
       "      <td>2021_Aug_02_1249</td>\n",
       "      <td>Social Reinforcement Learning</td>\n",
       "      <td>2021.1.4</td>\n",
       "      <td>59.443758</td>\n",
       "      <td>d</td>\n",
       "    </tr>\n",
       "    <tr>\n",
       "      <th>604</th>\n",
       "      <td>Social</td>\n",
       "      <td>SD</td>\n",
       "      <td>Private</td>\n",
       "      <td>images/Private_trial.png</td>\n",
       "      <td>0.5</td>\n",
       "      <td>99.0</td>\n",
       "      <td>d</td>\n",
       "      <td>0.3</td>\n",
       "      <td>0.7</td>\n",
       "      <td>1</td>\n",
       "      <td>3</td>\n",
       "      <td>3</td>\n",
       "      <td>18</td>\n",
       "      <td>M</td>\n",
       "      <td>2021_Aug_02_1249</td>\n",
       "      <td>Social Reinforcement Learning</td>\n",
       "      <td>2021.1.4</td>\n",
       "      <td>59.443758</td>\n",
       "      <td>d</td>\n",
       "    </tr>\n",
       "    <tr>\n",
       "      <th>605</th>\n",
       "      <td>Social</td>\n",
       "      <td>SD</td>\n",
       "      <td>Private</td>\n",
       "      <td>images/Private_trial.png</td>\n",
       "      <td>0.5</td>\n",
       "      <td>100.0</td>\n",
       "      <td>d</td>\n",
       "      <td>0.3</td>\n",
       "      <td>0.7</td>\n",
       "      <td>1</td>\n",
       "      <td>3</td>\n",
       "      <td>3</td>\n",
       "      <td>18</td>\n",
       "      <td>M</td>\n",
       "      <td>2021_Aug_02_1249</td>\n",
       "      <td>Social Reinforcement Learning</td>\n",
       "      <td>2021.1.4</td>\n",
       "      <td>59.443758</td>\n",
       "      <td>d</td>\n",
       "    </tr>\n",
       "  </tbody>\n",
       "</table>\n",
       "</div>"
      ]
     },
     "metadata": {},
     "execution_count": 82
    }
   ],
   "metadata": {}
  },
  {
   "cell_type": "code",
   "execution_count": 93,
   "source": [
    "new_frame = frame[frame[\"trial_type\"] != \"Observational\"]"
   ],
   "outputs": [],
   "metadata": {}
  },
  {
   "cell_type": "code",
   "execution_count": 170,
   "source": [
    "choose_best_action_id1 = np.array(list((new_frame[\"key_resp.keys\"] == new_frame[\"best_action\"]) & (new_frame[\"exp_id\"] == 1)))\r\n",
    "choose_best_action_id2 = np.array(list((new_frame[\"key_resp.keys\"] == new_frame[\"best_action\"]) & (new_frame[\"exp_id\"] == 2)))\r\n",
    "choose_best_action_id3 = np.array(list((new_frame[\"key_resp.keys\"] == new_frame[\"best_action\"]) & (new_frame[\"exp_id\"] == 3)))"
   ],
   "outputs": [],
   "metadata": {}
  },
  {
   "cell_type": "code",
   "execution_count": 167,
   "source": [
    "sum(new_frame[\"exp_id\"] == 1)"
   ],
   "outputs": [
    {
     "output_type": "execute_result",
     "data": {
      "text/plain": [
       "120"
      ]
     },
     "metadata": {},
     "execution_count": 167
    }
   ],
   "metadata": {}
  },
  {
   "cell_type": "code",
   "execution_count": 171,
   "source": [
    "choose_best_action = [sum(choose_best_action_id1) /sum(new_frame[\"exp_id\"] == 1) ,\r\n",
    "sum(choose_best_action_id2)/sum(new_frame[\"exp_id\"] == 2),\r\n",
    "sum(choose_best_action_id3)/sum(new_frame[\"exp_id\"] == 3)]"
   ],
   "outputs": [],
   "metadata": {}
  },
  {
   "cell_type": "code",
   "execution_count": 172,
   "source": [
    "choose_best_action"
   ],
   "outputs": [
    {
     "output_type": "execute_result",
     "data": {
      "text/plain": [
       "[0.8833333333333333, 0.7222222222222222, 0.9166666666666666]"
      ]
     },
     "metadata": {},
     "execution_count": 172
    }
   ],
   "metadata": {}
  },
  {
   "cell_type": "code",
   "execution_count": 174,
   "source": [
    "np.mean(choose_best_action)"
   ],
   "outputs": [
    {
     "output_type": "execute_result",
     "data": {
      "text/plain": [
       "0.8407407407407407"
      ]
     },
     "metadata": {},
     "execution_count": 174
    }
   ],
   "metadata": {}
  },
  {
   "cell_type": "code",
   "execution_count": 175,
   "source": [
    "stats.ttest_1samp(choose_best_action, 0.5)"
   ],
   "outputs": [
    {
     "output_type": "execute_result",
     "data": {
      "text/plain": [
       "Ttest_1sampResult(statistic=5.675661225975848, pvalue=0.029668659078689964)"
      ]
     },
     "metadata": {},
     "execution_count": 175
    }
   ],
   "metadata": {}
  },
  {
   "cell_type": "code",
   "execution_count": 184,
   "source": [
    "choose_best_action_pl = np.array(list((new_frame[\"learning_type\"] == \"PL\") & (new_frame[\"key_resp.keys\"] == new_frame[\"best_action\"])))\r\n",
    "choose_best_action_sd = np.array(list((new_frame[\"learning_type\"] == \"SD\") & (new_frame[\"key_resp.keys\"] == new_frame[\"best_action\"])))\r\n",
    "choose_best_action_ud = np.array(list((new_frame[\"learning_type\"] == \"UD\") & (new_frame[\"key_resp.keys\"] == new_frame[\"best_action\"])))"
   ],
   "outputs": [],
   "metadata": {}
  },
  {
   "cell_type": "code",
   "execution_count": 185,
   "source": [
    "for i in range(len(choose_best_action_pl)):\r\n",
    "    choose_best_action_pl[i] = int(choose_best_action_pl[i])\r\n",
    "    choose_best_action_sd[i] = int(choose_best_action_sd[i])\r\n",
    "    choose_best_action_ud[i] = int(choose_best_action_ud[i])"
   ],
   "outputs": [],
   "metadata": {}
  },
  {
   "cell_type": "code",
   "execution_count": 186,
   "source": [
    "print(sum(choose_best_action_pl) / sum(new_frame[\"learning_type\"] == \"PL\"),\r\n",
    "sum(choose_best_action_sd)/sum(new_frame[\"learning_type\"] == \"SD\"),\r\n",
    "sum(choose_best_action_ud)/sum(new_frame[\"learning_type\"] == \"UD\"))"
   ],
   "outputs": [
    {
     "output_type": "stream",
     "name": "stdout",
     "text": [
      "0.8333333333333334 0.7833333333333333 0.8083333333333333\n"
     ]
    }
   ],
   "metadata": {}
  },
  {
   "cell_type": "code",
   "execution_count": 187,
   "source": [
    "stats.ttest_ind(choose_best_action_pl,choose_best_action_sd)"
   ],
   "outputs": [
    {
     "output_type": "execute_result",
     "data": {
      "text/plain": [
       "Ttest_indResult(statistic=0.5033804632999691, pvalue=0.6148511954771608)"
      ]
     },
     "metadata": {},
     "execution_count": 187
    }
   ],
   "metadata": {}
  },
  {
   "cell_type": "code",
   "execution_count": 188,
   "source": [
    "stats.ttest_ind(choose_best_action_pl,choose_best_action_ud)"
   ],
   "outputs": [
    {
     "output_type": "execute_result",
     "data": {
      "text/plain": [
       "Ttest_indResult(statistic=0.2504485308776652, pvalue=0.8023121494158766)"
      ]
     },
     "metadata": {},
     "execution_count": 188
    }
   ],
   "metadata": {}
  },
  {
   "cell_type": "code",
   "execution_count": 189,
   "source": [
    "stats.ttest_ind(choose_best_action_ud,choose_best_action_sd)"
   ],
   "outputs": [
    {
     "output_type": "execute_result",
     "data": {
      "text/plain": [
       "Ttest_indResult(statistic=0.2529055152496081, pvalue=0.800413616226521)"
      ]
     },
     "metadata": {},
     "execution_count": 189
    }
   ],
   "metadata": {}
  },
  {
   "cell_type": "code",
   "execution_count": 149,
   "source": [
    "reward_pl = list(frame[frame[\"learning_type\"] == \"PL\"][\"reward\"])\r\n",
    "reward_sd = list(frame[frame[\"learning_type\"] == \"SD\"][\"reward\"])\r\n",
    "reward_ud = list(frame[frame[\"learning_type\"] == \"UD\"][\"reward\"])"
   ],
   "outputs": [],
   "metadata": {}
  },
  {
   "cell_type": "code",
   "execution_count": 126,
   "source": [
    "reward_sd = list(filter((\"?\").__ne__, reward_sd))\r\n",
    "reward_ud = list(filter((\"?\").__ne__, reward_ud))"
   ],
   "outputs": [],
   "metadata": {}
  },
  {
   "cell_type": "code",
   "execution_count": 128,
   "source": [
    "for i in range(len(reward_pl)):\r\n",
    "    reward_pl[i] = int(reward_pl[i])\r\n",
    "    reward_sd[i] = int(reward_sd[i])\r\n",
    "    reward_ud[i] = int(reward_ud[i])"
   ],
   "outputs": [],
   "metadata": {}
  },
  {
   "cell_type": "code",
   "execution_count": 130,
   "source": [
    "sum(reward_sd)/sum(),np.mean(reward_pl),np.mean(reward_ud)"
   ],
   "outputs": [
    {
     "output_type": "execute_result",
     "data": {
      "text/plain": [
       "(0.11666666666666667, 0.3333333333333333, 0.16666666666666666)"
      ]
     },
     "metadata": {},
     "execution_count": 130
    }
   ],
   "metadata": {}
  },
  {
   "cell_type": "code",
   "execution_count": 132,
   "source": [
    "stats.ttest_ind(reward_sd,reward_pl)"
   ],
   "outputs": [
    {
     "output_type": "execute_result",
     "data": {
      "text/plain": [
       "Ttest_indResult(statistic=-1.725968157035173, pvalue=0.08565095942787718)"
      ]
     },
     "metadata": {},
     "execution_count": 132
    }
   ],
   "metadata": {}
  },
  {
   "cell_type": "code",
   "execution_count": 133,
   "source": [
    "stats.ttest_ind(reward_ud,reward_pl)"
   ],
   "outputs": [
    {
     "output_type": "execute_result",
     "data": {
      "text/plain": [
       "Ttest_indResult(statistic=-1.3327112976879407, pvalue=0.18390102784976173)"
      ]
     },
     "metadata": {},
     "execution_count": 133
    }
   ],
   "metadata": {}
  },
  {
   "cell_type": "code",
   "execution_count": 134,
   "source": [
    "stats.ttest_ind(reward_ud,reward_sd)"
   ],
   "outputs": [
    {
     "output_type": "execute_result",
     "data": {
      "text/plain": [
       "Ttest_indResult(statistic=0.38973497207873337, pvalue=0.6970810650787552)"
      ]
     },
     "metadata": {},
     "execution_count": 134
    }
   ],
   "metadata": {}
  },
  {
   "cell_type": "code",
   "execution_count": 135,
   "source": [
    "pd.DataFrame.to_csv(frame,'task1.csv')"
   ],
   "outputs": [],
   "metadata": {}
  },
  {
   "cell_type": "code",
   "execution_count": null,
   "source": [],
   "outputs": [],
   "metadata": {}
  }
 ],
 "metadata": {
  "orig_nbformat": 4,
  "language_info": {
   "name": "python",
   "version": "3.7.9",
   "mimetype": "text/x-python",
   "codemirror_mode": {
    "name": "ipython",
    "version": 3
   },
   "pygments_lexer": "ipython3",
   "nbconvert_exporter": "python",
   "file_extension": ".py"
  },
  "kernelspec": {
   "name": "python3",
   "display_name": "Python 3.7.9 64-bit ('base': conda)"
  },
  "interpreter": {
   "hash": "87ae7d1e75b14a98f2d7b99b6b39b40721989d38e6517f9dbec64ca4d8e3011b"
  }
 },
 "nbformat": 4,
 "nbformat_minor": 2
}